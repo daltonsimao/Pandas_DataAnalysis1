{
 "cells": [
  {
   "cell_type": "code",
   "execution_count": 1,
   "id": "25a62e29",
   "metadata": {},
   "outputs": [],
   "source": [
    "import pandas as pd\n",
    "\n",
    "#criar graficos\n",
    "%matplotlib inline"
   ]
  },
  {
   "cell_type": "code",
   "execution_count": 2,
   "id": "017b4faa",
   "metadata": {},
   "outputs": [],
   "source": [
    "#importar arquivo csv e trazer apenas colunas especificas\n",
    "#0-NOME, 1-DESCRICAO CARGO, 2-CARREIRA, 8-STATUS"
   ]
  },
  {
   "cell_type": "code",
   "execution_count": 30,
   "id": "3b7d3604",
   "metadata": {
    "scrolled": true
   },
   "outputs": [],
   "source": [
    "df = pd.read_csv('forca-de-trabalho---09-07-18.csv', sep=';', encoding='cp1252', usecols=[0, 1, 2, 8])"
   ]
  },
  {
   "cell_type": "code",
   "execution_count": 28,
   "id": "0da7fa78",
   "metadata": {},
   "outputs": [
    {
     "data": {
      "text/html": [
       "<div>\n",
       "<style scoped>\n",
       "    .dataframe tbody tr th:only-of-type {\n",
       "        vertical-align: middle;\n",
       "    }\n",
       "\n",
       "    .dataframe tbody tr th {\n",
       "        vertical-align: top;\n",
       "    }\n",
       "\n",
       "    .dataframe thead th {\n",
       "        text-align: right;\n",
       "    }\n",
       "</style>\n",
       "<table border=\"1\" class=\"dataframe\">\n",
       "  <thead>\n",
       "    <tr style=\"text-align: right;\">\n",
       "      <th></th>\n",
       "      <th>FORÇA DE TRABALHO - 09-07-18</th>\n",
       "      <th>Unnamed: 1</th>\n",
       "      <th>Unnamed: 2</th>\n",
       "      <th>Unnamed: 8</th>\n",
       "    </tr>\n",
       "  </thead>\n",
       "  <tbody>\n",
       "    <tr>\n",
       "      <th>0</th>\n",
       "      <td>NOME DO SERVIDOR</td>\n",
       "      <td>DESC CARGO</td>\n",
       "      <td>CARREIRA</td>\n",
       "      <td>STATUS</td>\n",
       "    </tr>\n",
       "    <tr>\n",
       "      <th>1</th>\n",
       "      <td>JUAREZ CARLOS DE LIMA OLIVEIRA</td>\n",
       "      <td>TÉCNICO ADMINISTRATIVO</td>\n",
       "      <td>TÉCNICO EM SAÚDE</td>\n",
       "      <td>3 - AFASTADO</td>\n",
       "    </tr>\n",
       "    <tr>\n",
       "      <th>2</th>\n",
       "      <td>ANTONIO AGAMENON TORRES VIANA</td>\n",
       "      <td>TÉCNICO EM ENFERMAGEM</td>\n",
       "      <td>TÉCNICO EM SAÚDE</td>\n",
       "      <td>3 - AFASTADO</td>\n",
       "    </tr>\n",
       "    <tr>\n",
       "      <th>3</th>\n",
       "      <td>ANTONIO GERALDO DA SILVA</td>\n",
       "      <td>MEDICO - PSIQUIATRIA</td>\n",
       "      <td>MÉDICO</td>\n",
       "      <td>3 - AFASTADO</td>\n",
       "    </tr>\n",
       "    <tr>\n",
       "      <th>4</th>\n",
       "      <td>MARCOS GUTEMBERG FIALHO DA COSTA</td>\n",
       "      <td>MEDICO - GINECOLOGIA E OBSTETRÍCIA</td>\n",
       "      <td>MÉDICO</td>\n",
       "      <td>3 - AFASTADO</td>\n",
       "    </tr>\n",
       "    <tr>\n",
       "      <th>...</th>\n",
       "      <td>...</td>\n",
       "      <td>...</td>\n",
       "      <td>...</td>\n",
       "      <td>...</td>\n",
       "    </tr>\n",
       "    <tr>\n",
       "      <th>35695</th>\n",
       "      <td>PAULO HENRIQUE DANTAS ANTONINO</td>\n",
       "      <td>CONSELHEIRO DE SAÚDE</td>\n",
       "      <td>CONSELHEIRO DE SAUDE</td>\n",
       "      <td>2 - NORMAL</td>\n",
       "    </tr>\n",
       "    <tr>\n",
       "      <th>35696</th>\n",
       "      <td>JOSE WELLINGTON DOS SANTOS</td>\n",
       "      <td>CONSELHEIRO DE SAÚDE</td>\n",
       "      <td>CONSELHEIRO DE SAUDE</td>\n",
       "      <td>2 - NORMAL</td>\n",
       "    </tr>\n",
       "    <tr>\n",
       "      <th>35697</th>\n",
       "      <td>MARINO ZANETTI JUNIOR</td>\n",
       "      <td>CONSELHEIRO DE SAÚDE</td>\n",
       "      <td>CONSELHEIRO DE SAUDE</td>\n",
       "      <td>2 - NORMAL</td>\n",
       "    </tr>\n",
       "    <tr>\n",
       "      <th>35698</th>\n",
       "      <td>DARLENE PAULINO DELFINO LUNELLI</td>\n",
       "      <td>CONSELHEIRO DE SAÚDE</td>\n",
       "      <td>CONSELHEIRO DE SAUDE</td>\n",
       "      <td>2 - NORMAL</td>\n",
       "    </tr>\n",
       "    <tr>\n",
       "      <th>35699</th>\n",
       "      <td>NELI FERNANDES AGUIAR DE CASTRO</td>\n",
       "      <td>CONSELHEIRO DE SAÚDE</td>\n",
       "      <td>CONSELHEIRO DE SAUDE</td>\n",
       "      <td>2 - NORMAL</td>\n",
       "    </tr>\n",
       "  </tbody>\n",
       "</table>\n",
       "<p>35700 rows × 4 columns</p>\n",
       "</div>"
      ],
      "text/plain": [
       "           FORÇA DE TRABALHO - 09-07-18                           Unnamed: 1  \\\n",
       "0                      NOME DO SERVIDOR                           DESC CARGO   \n",
       "1        JUAREZ CARLOS DE LIMA OLIVEIRA               TÉCNICO ADMINISTRATIVO   \n",
       "2         ANTONIO AGAMENON TORRES VIANA                TÉCNICO EM ENFERMAGEM   \n",
       "3              ANTONIO GERALDO DA SILVA                MEDICO - PSIQUIATRIA    \n",
       "4      MARCOS GUTEMBERG FIALHO DA COSTA  MEDICO - GINECOLOGIA E OBSTETRÍCIA    \n",
       "...                                 ...                                  ...   \n",
       "35695    PAULO HENRIQUE DANTAS ANTONINO                 CONSELHEIRO DE SAÚDE   \n",
       "35696        JOSE WELLINGTON DOS SANTOS                 CONSELHEIRO DE SAÚDE   \n",
       "35697             MARINO ZANETTI JUNIOR                 CONSELHEIRO DE SAÚDE   \n",
       "35698   DARLENE PAULINO DELFINO LUNELLI                 CONSELHEIRO DE SAÚDE   \n",
       "35699   NELI FERNANDES AGUIAR DE CASTRO                 CONSELHEIRO DE SAÚDE   \n",
       "\n",
       "                 Unnamed: 2    Unnamed: 8  \n",
       "0                  CARREIRA        STATUS  \n",
       "1          TÉCNICO EM SAÚDE  3 - AFASTADO  \n",
       "2          TÉCNICO EM SAÚDE  3 - AFASTADO  \n",
       "3                    MÉDICO  3 - AFASTADO  \n",
       "4                    MÉDICO  3 - AFASTADO  \n",
       "...                     ...           ...  \n",
       "35695  CONSELHEIRO DE SAUDE    2 - NORMAL  \n",
       "35696  CONSELHEIRO DE SAUDE    2 - NORMAL  \n",
       "35697  CONSELHEIRO DE SAUDE    2 - NORMAL  \n",
       "35698  CONSELHEIRO DE SAUDE    2 - NORMAL  \n",
       "35699  CONSELHEIRO DE SAUDE    2 - NORMAL  \n",
       "\n",
       "[35700 rows x 4 columns]"
      ]
     },
     "execution_count": 28,
     "metadata": {},
     "output_type": "execute_result"
    }
   ],
   "source": [
    "df"
   ]
  },
  {
   "cell_type": "code",
   "execution_count": 33,
   "id": "9f9f4f86",
   "metadata": {},
   "outputs": [
    {
     "data": {
      "text/html": [
       "<div>\n",
       "<style scoped>\n",
       "    .dataframe tbody tr th:only-of-type {\n",
       "        vertical-align: middle;\n",
       "    }\n",
       "\n",
       "    .dataframe tbody tr th {\n",
       "        vertical-align: top;\n",
       "    }\n",
       "\n",
       "    .dataframe thead th {\n",
       "        text-align: right;\n",
       "    }\n",
       "</style>\n",
       "<table border=\"1\" class=\"dataframe\">\n",
       "  <thead>\n",
       "    <tr style=\"text-align: right;\">\n",
       "      <th></th>\n",
       "      <th>Nome</th>\n",
       "      <th>Cargo</th>\n",
       "      <th>Carreira</th>\n",
       "      <th>Condição</th>\n",
       "    </tr>\n",
       "  </thead>\n",
       "  <tbody>\n",
       "    <tr>\n",
       "      <th>0</th>\n",
       "      <td>NOME DO SERVIDOR</td>\n",
       "      <td>DESC CARGO</td>\n",
       "      <td>CARREIRA</td>\n",
       "      <td>STATUS</td>\n",
       "    </tr>\n",
       "    <tr>\n",
       "      <th>1</th>\n",
       "      <td>JUAREZ CARLOS DE LIMA OLIVEIRA</td>\n",
       "      <td>TÉCNICO ADMINISTRATIVO</td>\n",
       "      <td>TÉCNICO EM SAÚDE</td>\n",
       "      <td>3 - AFASTADO</td>\n",
       "    </tr>\n",
       "    <tr>\n",
       "      <th>2</th>\n",
       "      <td>ANTONIO AGAMENON TORRES VIANA</td>\n",
       "      <td>TÉCNICO EM ENFERMAGEM</td>\n",
       "      <td>TÉCNICO EM SAÚDE</td>\n",
       "      <td>3 - AFASTADO</td>\n",
       "    </tr>\n",
       "    <tr>\n",
       "      <th>3</th>\n",
       "      <td>ANTONIO GERALDO DA SILVA</td>\n",
       "      <td>MEDICO - PSIQUIATRIA</td>\n",
       "      <td>MÉDICO</td>\n",
       "      <td>3 - AFASTADO</td>\n",
       "    </tr>\n",
       "    <tr>\n",
       "      <th>4</th>\n",
       "      <td>MARCOS GUTEMBERG FIALHO DA COSTA</td>\n",
       "      <td>MEDICO - GINECOLOGIA E OBSTETRÍCIA</td>\n",
       "      <td>MÉDICO</td>\n",
       "      <td>3 - AFASTADO</td>\n",
       "    </tr>\n",
       "    <tr>\n",
       "      <th>...</th>\n",
       "      <td>...</td>\n",
       "      <td>...</td>\n",
       "      <td>...</td>\n",
       "      <td>...</td>\n",
       "    </tr>\n",
       "    <tr>\n",
       "      <th>35695</th>\n",
       "      <td>PAULO HENRIQUE DANTAS ANTONINO</td>\n",
       "      <td>CONSELHEIRO DE SAÚDE</td>\n",
       "      <td>CONSELHEIRO DE SAUDE</td>\n",
       "      <td>2 - NORMAL</td>\n",
       "    </tr>\n",
       "    <tr>\n",
       "      <th>35696</th>\n",
       "      <td>JOSE WELLINGTON DOS SANTOS</td>\n",
       "      <td>CONSELHEIRO DE SAÚDE</td>\n",
       "      <td>CONSELHEIRO DE SAUDE</td>\n",
       "      <td>2 - NORMAL</td>\n",
       "    </tr>\n",
       "    <tr>\n",
       "      <th>35697</th>\n",
       "      <td>MARINO ZANETTI JUNIOR</td>\n",
       "      <td>CONSELHEIRO DE SAÚDE</td>\n",
       "      <td>CONSELHEIRO DE SAUDE</td>\n",
       "      <td>2 - NORMAL</td>\n",
       "    </tr>\n",
       "    <tr>\n",
       "      <th>35698</th>\n",
       "      <td>DARLENE PAULINO DELFINO LUNELLI</td>\n",
       "      <td>CONSELHEIRO DE SAÚDE</td>\n",
       "      <td>CONSELHEIRO DE SAUDE</td>\n",
       "      <td>2 - NORMAL</td>\n",
       "    </tr>\n",
       "    <tr>\n",
       "      <th>35699</th>\n",
       "      <td>NELI FERNANDES AGUIAR DE CASTRO</td>\n",
       "      <td>CONSELHEIRO DE SAÚDE</td>\n",
       "      <td>CONSELHEIRO DE SAUDE</td>\n",
       "      <td>2 - NORMAL</td>\n",
       "    </tr>\n",
       "  </tbody>\n",
       "</table>\n",
       "<p>35700 rows × 4 columns</p>\n",
       "</div>"
      ],
      "text/plain": [
       "                                   Nome                                Cargo  \\\n",
       "0                      NOME DO SERVIDOR                           DESC CARGO   \n",
       "1        JUAREZ CARLOS DE LIMA OLIVEIRA               TÉCNICO ADMINISTRATIVO   \n",
       "2         ANTONIO AGAMENON TORRES VIANA                TÉCNICO EM ENFERMAGEM   \n",
       "3              ANTONIO GERALDO DA SILVA                MEDICO - PSIQUIATRIA    \n",
       "4      MARCOS GUTEMBERG FIALHO DA COSTA  MEDICO - GINECOLOGIA E OBSTETRÍCIA    \n",
       "...                                 ...                                  ...   \n",
       "35695    PAULO HENRIQUE DANTAS ANTONINO                 CONSELHEIRO DE SAÚDE   \n",
       "35696        JOSE WELLINGTON DOS SANTOS                 CONSELHEIRO DE SAÚDE   \n",
       "35697             MARINO ZANETTI JUNIOR                 CONSELHEIRO DE SAÚDE   \n",
       "35698   DARLENE PAULINO DELFINO LUNELLI                 CONSELHEIRO DE SAÚDE   \n",
       "35699   NELI FERNANDES AGUIAR DE CASTRO                 CONSELHEIRO DE SAÚDE   \n",
       "\n",
       "                   Carreira      Condição  \n",
       "0                  CARREIRA        STATUS  \n",
       "1          TÉCNICO EM SAÚDE  3 - AFASTADO  \n",
       "2          TÉCNICO EM SAÚDE  3 - AFASTADO  \n",
       "3                    MÉDICO  3 - AFASTADO  \n",
       "4                    MÉDICO  3 - AFASTADO  \n",
       "...                     ...           ...  \n",
       "35695  CONSELHEIRO DE SAUDE    2 - NORMAL  \n",
       "35696  CONSELHEIRO DE SAUDE    2 - NORMAL  \n",
       "35697  CONSELHEIRO DE SAUDE    2 - NORMAL  \n",
       "35698  CONSELHEIRO DE SAUDE    2 - NORMAL  \n",
       "35699  CONSELHEIRO DE SAUDE    2 - NORMAL  \n",
       "\n",
       "[35700 rows x 4 columns]"
      ]
     },
     "execution_count": 33,
     "metadata": {},
     "output_type": "execute_result"
    }
   ],
   "source": [
    "#trocar nome da coluna\n",
    "df.columns = ['Nome','Cargo', 'Carreira','Condição']\n",
    "df"
   ]
  },
  {
   "cell_type": "code",
   "execution_count": 34,
   "id": "99b146b1",
   "metadata": {},
   "outputs": [
    {
     "data": {
      "text/html": [
       "<div>\n",
       "<style scoped>\n",
       "    .dataframe tbody tr th:only-of-type {\n",
       "        vertical-align: middle;\n",
       "    }\n",
       "\n",
       "    .dataframe tbody tr th {\n",
       "        vertical-align: top;\n",
       "    }\n",
       "\n",
       "    .dataframe thead th {\n",
       "        text-align: right;\n",
       "    }\n",
       "</style>\n",
       "<table border=\"1\" class=\"dataframe\">\n",
       "  <thead>\n",
       "    <tr style=\"text-align: right;\">\n",
       "      <th></th>\n",
       "      <th>Nome</th>\n",
       "      <th>Cargo</th>\n",
       "      <th>Carreira</th>\n",
       "      <th>Condição</th>\n",
       "    </tr>\n",
       "  </thead>\n",
       "  <tbody>\n",
       "    <tr>\n",
       "      <th>count</th>\n",
       "      <td>35700</td>\n",
       "      <td>35700</td>\n",
       "      <td>35700</td>\n",
       "      <td>35700</td>\n",
       "    </tr>\n",
       "    <tr>\n",
       "      <th>unique</th>\n",
       "      <td>34040</td>\n",
       "      <td>223</td>\n",
       "      <td>12</td>\n",
       "      <td>5</td>\n",
       "    </tr>\n",
       "    <tr>\n",
       "      <th>top</th>\n",
       "      <td>MARIA APARECIDA DA SILVA</td>\n",
       "      <td>TÉCNICO EM ENFERMAGEM</td>\n",
       "      <td>TÉCNICO EM SAÚDE</td>\n",
       "      <td>2 - NORMAL</td>\n",
       "    </tr>\n",
       "    <tr>\n",
       "      <th>freq</th>\n",
       "      <td>5</td>\n",
       "      <td>11012</td>\n",
       "      <td>16730</td>\n",
       "      <td>33499</td>\n",
       "    </tr>\n",
       "  </tbody>\n",
       "</table>\n",
       "</div>"
      ],
      "text/plain": [
       "                            Nome                  Cargo          Carreira  \\\n",
       "count                      35700                  35700             35700   \n",
       "unique                     34040                    223                12   \n",
       "top     MARIA APARECIDA DA SILVA  TÉCNICO EM ENFERMAGEM  TÉCNICO EM SAÚDE   \n",
       "freq                           5                  11012             16730   \n",
       "\n",
       "          Condição  \n",
       "count        35700  \n",
       "unique           5  \n",
       "top     2 - NORMAL  \n",
       "freq         33499  "
      ]
     },
     "execution_count": 34,
     "metadata": {},
     "output_type": "execute_result"
    }
   ],
   "source": [
    "#mostra quantidade de dados por coluna, mostrando totais, dados unicos, frequencia que repetem, top dos dados que mais aparecem\n",
    "df.describe()"
   ]
  },
  {
   "cell_type": "code",
   "execution_count": 35,
   "id": "220535d4",
   "metadata": {},
   "outputs": [
    {
     "data": {
      "text/plain": [
       "array(['CARREIRA', 'TÉCNICO EM SAÚDE', 'MÉDICO', 'AUXILIAR DE SAÚDE',\n",
       "       'ENFERMEIRO', 'EMPREGO COMUNITÁRIO DO DISTRITO FEDERAL', 'PPGG',\n",
       "       'CIRURGIÃO-DENTISTA', 'ESPECIALISTA EM SAÚDE', 'OUTRAS',\n",
       "       'CONSELHEIRO DE SAUDE', 'RESIDENTE'], dtype=object)"
      ]
     },
     "execution_count": 35,
     "metadata": {},
     "output_type": "execute_result"
    }
   ],
   "source": [
    "#Cria uma lista de dados unicos\n",
    "df['Carreira'].unique()"
   ]
  },
  {
   "cell_type": "code",
   "execution_count": 44,
   "id": "fe73dd3d",
   "metadata": {},
   "outputs": [
    {
     "data": {
      "text/plain": [
       "35700"
      ]
     },
     "execution_count": 44,
     "metadata": {},
     "output_type": "execute_result"
    }
   ],
   "source": [
    "#Conta quantidade de linhas\n",
    "df['Nome'].count()"
   ]
  },
  {
   "cell_type": "code",
   "execution_count": 43,
   "id": "3e0bf52f",
   "metadata": {},
   "outputs": [
    {
     "data": {
      "text/plain": [
       "TÉCNICO EM ENFERMAGEM                         11012\n",
       "ENFERMEIRO                                     3516\n",
       "TÉCNICO ADMINISTRATIVO                         2993\n",
       "COMISSIONADO OU REQUISITADO (SEM VÍNCULO)      1115\n",
       "AGENTE COMUNITÁRIO DE SAÚDE                    1027\n",
       "                                              ...  \n",
       "MED. RESIDENTE - ELETROFISIOLOGIA                 1\n",
       "PROGRAMADOR                                       1\n",
       "AOSD- ANESTESIOLOGIA                              1\n",
       "SUPERVISOR DE SEGURANÇA DO TRABALHO               1\n",
       "MED. RESIDENTE - MEDICINA PALIATIVA               1\n",
       "Name: Cargo, Length: 223, dtype: int64"
      ]
     },
     "execution_count": 43,
     "metadata": {},
     "output_type": "execute_result"
    }
   ],
   "source": [
    "#Conta os dados iguais\n",
    "df['Condição'].value_counts()"
   ]
  },
  {
   "cell_type": "code",
   "execution_count": 45,
   "id": "4c777ade",
   "metadata": {},
   "outputs": [
    {
     "data": {
      "text/plain": [
       "TÉCNICO EM SAÚDE                           16730\n",
       "MÉDICO                                      5312\n",
       "ENFERMEIRO                                  3544\n",
       "ESPECIALISTA EM SAÚDE                       2848\n",
       "AUXILIAR DE SAÚDE                           1998\n",
       "RESIDENTE                                   1452\n",
       "EMPREGO COMUNITÁRIO DO DISTRITO FEDERAL     1415\n",
       "OUTRAS                                      1295\n",
       "PPGG                                         565\n",
       "CIRURGIÃO-DENTISTA                           521\n",
       "CONSELHEIRO DE SAUDE                          19\n",
       "CARREIRA                                       1\n",
       "Name: Carreira, dtype: int64"
      ]
     },
     "execution_count": 45,
     "metadata": {},
     "output_type": "execute_result"
    }
   ],
   "source": [
    "df['Carreira'].value_counts()"
   ]
  },
  {
   "cell_type": "code",
   "execution_count": 46,
   "id": "88f9f7df",
   "metadata": {},
   "outputs": [
    {
     "data": {
      "text/plain": [
       "<AxesSubplot:>"
      ]
     },
     "execution_count": 46,
     "metadata": {},
     "output_type": "execute_result"
    },
    {
     "data": {
      "image/png": "[encoded data removed]",
      "text/plain": [
       "<Figure size 432x288 with 1 Axes>"
      ]
     },
     "metadata": {
      "needs_background": "light"
     },
     "output_type": "display_data"
    }
   ],
   "source": [
    "df['Carreira'].value_counts().plot.bar()"
   ]
  },
  {
   "cell_type": "code",
   "execution_count": 57,
   "id": "312ecb5e",
   "metadata": {},
   "outputs": [
    {
     "data": {
      "text/plain": [
       "<AxesSubplot:>"
      ]
     },
     "execution_count": 57,
     "metadata": {},
     "output_type": "execute_result"
    },
    {
     "data": {
      "image/png": "[encoded data removed]",
      "text/plain": [
       "<Figure size 432x288 with 1 Axes>"
      ]
     },
     "metadata": {
      "needs_background": "light"
     },
     "output_type": "display_data"
    }
   ],
   "source": [
    "df['Carreira'].value_counts(ascending=True).plot.barh()"
   ]
  },
  {
   "cell_type": "code",
   "execution_count": null,
   "id": "acbbb9d5",
   "metadata": {},
   "outputs": [],
   "source": []
  }
 ],
 "metadata": {
  "kernelspec": {
   "display_name": "Python 3 (ipykernel)",
   "language": "python",
   "name": "python3"
  },
  "language_info": {
   "codemirror_mode": {
    "name": "ipython",
    "version": 3
   },
   "file_extension": ".py",
   "mimetype": "text/x-python",
   "name": "python",
   "nbconvert_exporter": "python",
   "pygments_lexer": "ipython3",
   "version": "3.8.11"
  }
 },
 "nbformat": 4,
 "nbformat_minor": 5
}
